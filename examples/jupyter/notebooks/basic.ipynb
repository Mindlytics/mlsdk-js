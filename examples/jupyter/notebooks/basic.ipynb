{
 "cells": [
  {
   "cell_type": "markdown",
   "id": "9086c95c-e143-4058-9780-9fb7d86edbf4",
   "metadata": {},
   "source": [
    "This is a very basic demo that really just makes sure you can connect to the Mindlytics session with your apikey and project id.  It is the same code that you can find in examples/basic.  This demo, as well as the other notebook demos, requires that you've set the following environment variables in your shell **before** you launch Jupyter:\n",
    "\n",
    "```sh\n",
    "API_KEY=\"your mindlytics workspace api key\"\n",
    "PROJECT_ID=\"the project id of a project in that workspace\"\n",
    "```\n",
    "\n",
    "First, import the Client class from the sdk."
   ]
  },
  {
   "cell_type": "code",
   "execution_count": 1,
   "id": "fc97edcc-a535-4241-9bb1-e7b827270b05",
   "metadata": {},
   "outputs": [],
   "source": [
    "import { Client } from '@mindlytics/node-sdk'"
   ]
  },
  {
   "cell_type": "markdown",
   "id": "89e60ccf-f954-40f7-a032-bd944c875fac",
   "metadata": {},
   "source": [
    "Now we'll define a simple function that gets the currently open session and sends a simple event."
   ]
  },
  {
   "cell_type": "code",
   "execution_count": 2,
   "id": "032501fd-d45c-40e9-bc57-a16af43c5e4a",
   "metadata": {},
   "outputs": [],
   "source": [
    "async function toolCall() {\n",
    "  const session = Client.use()\n",
    "\n",
    "  const sessionId = session.sessionId\n",
    "\n",
    "  const userId = session.userId\n",
    "\n",
    "  console.log(sessionId, userId)\n",
    "\n",
    "  await session.trackConversationFunction({\n",
    "    properties: {\n",
    "      name: \"toolCall\",\n",
    "      args: \"\",\n",
    "      result: \"\",\n",
    "      runtime: 2,\n",
    "      tool_call_id: '123',\n",
    "    },\n",
    "  })\n",
    "}"
   ]
  },
  {
   "cell_type": "markdown",
   "id": "ea4ade78-aa67-42b2-b88e-95b535b87fb5",
   "metadata": {},
   "source": [
    "Initialize the sdk with your credentials:"
   ]
  },
  {
   "cell_type": "code",
   "execution_count": 3,
   "id": "06db22c4-7a44-4059-beac-b1a9cf2bd1f5",
   "metadata": {},
   "outputs": [],
   "source": [
    "const client = new Client({\n",
    "    projectId: process.env.PROJECT_ID!,\n",
    "    apiKey: process.env.API_KEY!,\n",
    "    ...(process.env.BASE_URL && { baseUrl: process.env.BASE_URL }),\n",
    "    debug: true,\n",
    "})"
   ]
  },
  {
   "cell_type": "markdown",
   "id": "6d9872f9-e4e0-4d92-9a7e-88cf466f371f",
   "metadata": {},
   "source": [
    "Create a new session."
   ]
  },
  {
   "cell_type": "code",
   "execution_count": 4,
   "id": "1ceea49d-b194-4426-a4f1-7f4422eaa823",
   "metadata": {},
   "outputs": [
    {
     "name": "stdout",
     "output_type": "stream",
     "text": [
      "Session ID: cabe4c93-2f76-4bc3-afb4-aaa2048b3b79\n"
     ]
    }
   ],
   "source": [
    "import crypto from 'node:crypto'\n",
    "\n",
    "const session = client.createSession({\n",
    "    sessionId: crypto.randomUUID(),\n",
    "    conversationId: crypto.randomUUID(),\n",
    "    userId: '123',\n",
    "})\n",
    "console.log('Session ID:', session.sessionId)"
   ]
  },
  {
   "cell_type": "markdown",
   "id": "b359890d-b37b-4f13-bfe0-381467c6598f",
   "metadata": {},
   "source": [
    "You should see something like `console.log('Session ID:', sessionId) ...` in the console output above, if you've initialed the sdk with debug:true.\n",
    "\n",
    "Now lets start a context and call our function to send an event.  After that, end the session and flush out the event queue.\n"
   ]
  },
  {
   "cell_type": "code",
   "execution_count": 5,
   "id": "79ed20c2-0f68-4055-8ad4-3a3535c2d537",
   "metadata": {},
   "outputs": [
    {
     "name": "stdout",
     "output_type": "stream",
     "text": [
      "cabe4c93-2f76-4bc3-afb4-aaa2048b3b79 123\n",
      "[MLSDK:DEBUG:EventQueue] Processing request to /bc/v1/events/event/conversation-function {\n",
      "  type: \u001b[32m'track'\u001b[39m,\n",
      "  event: \u001b[32m'Conversation Function'\u001b[39m,\n",
      "  session_id: \u001b[32m'cabe4c93-2f76-4bc3-afb4-aaa2048b3b79'\u001b[39m,\n",
      "  user_id: \u001b[32m'123'\u001b[39m,\n",
      "  device_id: \u001b[90mundefined\u001b[39m,\n",
      "  properties: {\n",
      "    name: \u001b[32m'toolCall'\u001b[39m,\n",
      "    args: \u001b[32m''\u001b[39m,\n",
      "    result: \u001b[32m''\u001b[39m,\n",
      "    runtime: \u001b[33m2\u001b[39m,\n",
      "    tool_call_id: \u001b[32m'123'\u001b[39m\n",
      "  },\n",
      "  conversation_id: \u001b[32m'de8e231f-37cc-4fc5-80a3-2033723d091e'\u001b[39m\n",
      "} {\n",
      "  header: {\n",
      "    Authorization: \u001b[32m'e3544a18-7362-4959-a12f-d88ec4abb2df'\u001b[39m,\n",
      "    \u001b[32m'x-app-id'\u001b[39m: \u001b[32m'b3003b2b-1c70-42fc-870c-69f76a8e3b2c'\u001b[39m\n",
      "  }\n",
      "}\n",
      "[MLSDK:DEBUG] Request: /bc/v1/events/event/conversation-function {\n",
      "  header: {\n",
      "    Authorization: \u001b[32m'e3544a18-7362-4959-a12f-d88ec4abb2df'\u001b[39m,\n",
      "    \u001b[32m'x-app-id'\u001b[39m: \u001b[32m'b3003b2b-1c70-42fc-870c-69f76a8e3b2c'\u001b[39m\n",
      "  }\n",
      "}\n",
      "[MLSDK:DEBUG] Response: /bc/v1/events/event/conversation-function \u001b[33m200\u001b[39m ReadableStream { locked: \u001b[33mfalse\u001b[39m, state: \u001b[32m'readable'\u001b[39m, supportsBYOB: \u001b[33mtrue\u001b[39m }\n"
     ]
    }
   ],
   "source": [
    "await client.withContext(async () => {\n",
    "    await toolCall()\n",
    "})"
   ]
  },
  {
   "cell_type": "markdown",
   "id": "9d8e5867-bcaa-4fa3-87e5-ebf61b35e11c",
   "metadata": {},
   "source": [
    "We've sent all the events, now we can end the session and flush the local event queue."
   ]
  },
  {
   "cell_type": "code",
   "execution_count": 6,
   "id": "45d47143-d8fe-43b2-8eba-a00cb2d4f360",
   "metadata": {},
   "outputs": [
    {
     "name": "stdout",
     "output_type": "stream",
     "text": [
      "[MLSDK:DEBUG:EventQueue] Processing request to /bc/v1/events/event/end-session {\n",
      "  type: \u001b[32m'end_session'\u001b[39m,\n",
      "  user_id: \u001b[32m'123'\u001b[39m,\n",
      "  device_id: \u001b[90mundefined\u001b[39m,\n",
      "  session_id: \u001b[32m'cabe4c93-2f76-4bc3-afb4-aaa2048b3b79'\u001b[39m\n",
      "} {\n",
      "  header: {\n",
      "    Authorization: \u001b[32m'e3544a18-7362-4959-a12f-d88ec4abb2df'\u001b[39m,\n",
      "    \u001b[32m'x-app-id'\u001b[39m: \u001b[32m'b3003b2b-1c70-42fc-870c-69f76a8e3b2c'\u001b[39m\n",
      "  }\n",
      "}\n",
      "[MLSDK:DEBUG] Request: /bc/v1/events/event/end-session {\n",
      "  header: {\n",
      "    Authorization: \u001b[32m'e3544a18-7362-4959-a12f-d88ec4abb2df'\u001b[39m,\n",
      "    \u001b[32m'x-app-id'\u001b[39m: \u001b[32m'b3003b2b-1c70-42fc-870c-69f76a8e3b2c'\u001b[39m\n",
      "  }\n",
      "}\n",
      "[MLSDK:DEBUG] Response: /bc/v1/events/event/end-session \u001b[33m200\u001b[39m ReadableStream { locked: \u001b[33mfalse\u001b[39m, state: \u001b[32m'readable'\u001b[39m, supportsBYOB: \u001b[33mtrue\u001b[39m }\n"
     ]
    }
   ],
   "source": [
    "await session.end()\n",
    "const commErrors = await session.flush()\n",
    "\n",
    "if (commErrors.length) {\n",
    "    console.log(`There were ${commErrors.length} communication errors with the Mindlyitcs service!`)\n",
    "    console.log(commErrors)\n",
    "}"
   ]
  },
  {
   "cell_type": "markdown",
   "id": "6d3166d5-c150-41dd-bb4c-4e6d46692104",
   "metadata": {},
   "source": [
    "How do we know if everything worked?  Good question!  If there were any communication errors with the Mindlytics service, the code above would have printed them out.  But the actual analysis of the session was done asynchroniously on the Mindlytics server and normally you would not have access to it here.  You could go to the Mindlytics SaaS portal and look at the conversation in detail there.  For the purposes of this demo, you could use the `dbGET()` method on the client to read the Mindlytics database directly.  Here's how you could fetch the session you just completed along with the events that were generated:\n"
   ]
  },
  {
   "cell_type": "code",
   "execution_count": 7,
   "id": "95e937fb-a23f-4a6f-a0a3-ca12278c28be",
   "metadata": {},
   "outputs": [
    {
     "name": "stdout",
     "output_type": "stream",
     "text": [
      "[MLSDK:DEBUG] Request: /bc/v1/db/{collection}/{op} {\n",
      "  query: {\n",
      "    filter: \u001b[32m'{\"session_id\":\"cabe4c93-2f76-4bc3-afb4-aaa2048b3b79\"}'\u001b[39m,\n",
      "    include: \u001b[32m'[\"events\"]'\u001b[39m\n",
      "  },\n",
      "  path: { collection: \u001b[32m'sessions'\u001b[39m, op: \u001b[32m'findOne'\u001b[39m }\n",
      "}\n",
      "[MLSDK:DEBUG] Response: /bc/v1/db/{collection}/{op} \u001b[33m200\u001b[39m ReadableStream { locked: \u001b[33mfalse\u001b[39m, state: \u001b[32m'readable'\u001b[39m, supportsBYOB: \u001b[33mtrue\u001b[39m }\n",
      "Session Started\n",
      "Conversation Started\n",
      "Conversation Function\n",
      "Conversation Ended\n",
      "Conversation Summary\n",
      "Session Ended\n"
     ]
    }
   ],
   "source": [
    "const res = await client.dbGET({collection: 'sessions', op: 'findOne', query: {\n",
    "    filter: {session_id: session.sessionId},\n",
    "    include: 'events'\n",
    "}})\n",
    "\n",
    "if (res.error) {\n",
    "    console.log(res.error)\n",
    "} else {\n",
    "    for (const ev of res.data.events) {\n",
    "        console.log(ev.event)\n",
    "    }\n",
    "}"
   ]
  },
  {
   "cell_type": "markdown",
   "id": "29ef1271-cea2-447d-aa08-8ce323b14251",
   "metadata": {},
   "source": [
    "There is an alternative way to capture these events as they happen in realtime using a websocket connection to the Mindlytics service.  That technique will be demonstrated in other examples."
   ]
  }
 ],
 "metadata": {
  "kernelspec": {
   "display_name": "TypeScript",
   "language": "typescript",
   "name": "tslab"
  },
  "language_info": {
   "codemirror_mode": {
    "mode": "typescript",
    "name": "javascript",
    "typescript": true
   },
   "file_extension": ".ts",
   "mimetype": "text/typescript",
   "name": "typescript",
   "version": "3.7.2"
  }
 },
 "nbformat": 4,
 "nbformat_minor": 5
}
